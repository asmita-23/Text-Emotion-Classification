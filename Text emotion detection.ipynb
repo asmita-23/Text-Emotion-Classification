{
 "cells": [
  {
   "cell_type": "code",
   "execution_count": 60,
   "id": "9aee1bee-490b-4044-ae9a-70a59929a5f6",
   "metadata": {},
   "outputs": [],
   "source": [
    "import pandas as pd\n",
    "import numpy as np\n",
    "from sklearn.preprocessing import LabelEncoder\n",
    "from tensorflow.keras.preprocessing.text import Tokenizer\n",
    "from tensorflow.keras.preprocessing.sequence import pad_sequences\n",
    "from tensorflow.keras.models import Sequential\n",
    "from tensorflow.keras.layers import Embedding, Flatten, Dense\n",
    "from IPython.display import display, HTML\n",
    "import matplotlib.pyplot as plt\n"
   ]
  },
  {
   "cell_type": "code",
   "execution_count": 59,
   "id": "457ce094-c763-4c49-958c-edf7d818c928",
   "metadata": {},
   "outputs": [
    {
     "name": "stdout",
     "output_type": "stream",
     "text": [
      "                                                Text Emotions\n",
      "0  i can go from feeling so hopeless to so damned...  sadness\n",
      "1   im grabbing a minute to post i feel greedy wrong    anger\n",
      "2  i am ever feeling nostalgic about the fireplac...     love\n",
      "3                               i am feeling grouchy    anger\n",
      "4  ive been feeling a little burdened lately wasn...  sadness\n"
     ]
    }
   ],
   "source": [
    "data = pd.read_csv(\"archive (3)/train.txt\", sep=';')\n",
    "data.columns = [\"Text\", \"Emotions\"]\n",
    "print(data.head())"
   ]
  },
  {
   "cell_type": "code",
   "execution_count": 61,
   "id": "3e76fdc9-e748-4f4e-8524-b420cc8501f0",
   "metadata": {},
   "outputs": [],
   "source": [
    "# Preprocess the text data\n",
    "tokenizer = Tokenizer()\n",
    "tokenizer.fit_on_texts(data['Text'])\n",
    "\n",
    "# Convert texts to sequences of integers\n",
    "X = tokenizer.texts_to_sequences(data['Text'])\n",
    "\n",
    "# Padding sequences to make them of equal length\n",
    "max_length = max([len(seq) for seq in X])  # Calculate maximum sequence length\n",
    "X_pad = pad_sequences(X, maxlen=max_length, padding='post')\n",
    "\n",
    "# Encoding labels (emotions)\n",
    "label_encoder = LabelEncoder()\n",
    "y = label_encoder.fit_transform(data['Emotions'])\n"
   ]
  },
  {
   "cell_type": "code",
   "execution_count": 65,
   "id": "7579fe39-e795-45e5-be68-50e785c1a176",
   "metadata": {},
   "outputs": [
    {
     "name": "stdout",
     "output_type": "stream",
     "text": [
      "Sample Padded Sequences:\n",
      "[[   0    0    0    0    0    0    0    0    0    0    0    0    0    0\n",
      "     0    0    0    0    0    0    0    0    0    0    0    0    0    0\n",
      "     0    0    0    0    0    0    0    0    0    0    0    0    0    0\n",
      "     0    0    0    1   39  100   59    7   14  493    4   14 3495  552\n",
      "    31   59   60  127  147   75 1479    3   21 1254]\n",
      " [   0    0    0    0    0    0    0    0    0    0    0    0    0    0\n",
      "     0    0    0    0    0    0    0    0    0    0    0    0    0    0\n",
      "     0    0    0    0    0    0    0    0    0    0    0    0    0    0\n",
      "     0    0    0    0    0    0    0    0    0    0    0    0    0    0\n",
      "    16 3059    6 1148    4  285    1    2  494  437]\n",
      " [   0    0    0    0    0    0    0    0    0    0    0    0    0    0\n",
      "     0    0    0    0    0    0    0    0    0    0    0    0    0    0\n",
      "     0    0    0    0    0    0    0    0    0    0    0    0    0    0\n",
      "     0    0    0    0    0    0    1   23  164    7  664   26    5 4157\n",
      "     1   58   46    8   12   21   71   29    5 3496]\n",
      " [   0    0    0    0    0    0    0    0    0    0    0    0    0    0\n",
      "     0    0    0    0    0    0    0    0    0    0    0    0    0    0\n",
      "     0    0    0    0    0    0    0    0    0    0    0    0    0    0\n",
      "     0    0    0    0    0    0    0    0    0    0    0    0    0    0\n",
      "     0    0    0    0    0    0    1   23    7 1064]\n",
      " [   0    0    0    0    0    0    0    0    0    0    0    0    0    0\n",
      "     0    0    0    0    0    0    0    0    0    0    0    0    0    0\n",
      "     0    0    0    0    0    0    0    0    0    0    0    0    0    0\n",
      "     0    0    0    0    0    0    0    0    0    0    0    0   72   47\n",
      "     7    6   55  520  318  327  157  160    8   19]]\n"
     ]
    }
   ],
   "source": [
    "# Extract the text and emotion labels\n",
    "texts = data[\"Text\"].tolist()\n",
    "labels = data[\"Emotions\"].tolist()\n",
    "\n",
    "# Tokenize the text data\n",
    "tokenizer = Tokenizer()\n",
    "tokenizer.fit_on_texts(texts)\n",
    "\n",
    "# Convert texts to sequences\n",
    "sequences = tokenizer.texts_to_sequences(texts)\n",
    "\n",
    "# Find the maximum sequence length\n",
    "max_length = max([len(seq) for seq in sequences])\n",
    "\n",
    "# Pad the sequences to make them of uniform length\n",
    "padded_sequences = pad_sequences(sequences, maxlen=max_length)\n",
    "\n",
    "# Display the first few padded sequences for verification\n",
    "print(\"Sample Padded Sequences:\")\n",
    "print(padded_sequences[:5])\n"
   ]
  },
  {
   "cell_type": "code",
   "execution_count": 66,
   "id": "9aa7f1e0-6d89-4e4b-9404-bb65d6e44cd8",
   "metadata": {},
   "outputs": [
    {
     "name": "stdout",
     "output_type": "stream",
     "text": [
      "Sample One-Hot Encoded Label: [0. 0. 0. 0. 1. 0.]\n",
      "\n",
      "Shape of Training Data (xtrain): (12799, 66)\n",
      "Shape of Testing Data (xtest): (3200, 66)\n",
      "Shape of Training Labels (ytrain): (12799, 6)\n",
      "Shape of Testing Labels (ytest): (3200, 6)\n"
     ]
    }
   ],
   "source": [
    "from sklearn.preprocessing import LabelEncoder\n",
    "from sklearn.model_selection import train_test_split\n",
    "from tensorflow.keras.utils import to_categorical\n",
    "\n",
    "# Encode the string emotion labels to integers\n",
    "label_encoder = LabelEncoder()\n",
    "labels = label_encoder.fit_transform(labels)\n",
    "\n",
    "# One-hot encode the integer labels\n",
    "one_hot_labels = to_categorical(labels)\n",
    "\n",
    "# Split the data into training and testing sets\n",
    "xtrain, xtest, ytrain, ytest = train_test_split(padded_sequences, \n",
    "                                                one_hot_labels, \n",
    "                                                test_size=0.2, \n",
    "                                                random_state=42)\n",
    "\n",
    "# Display a sample one-hot encoded label and the shapes of train/test sets\n",
    "print(\"Sample One-Hot Encoded Label:\", one_hot_labels[0])\n",
    "print(\"\\nShape of Training Data (xtrain):\", xtrain.shape)\n",
    "print(\"Shape of Testing Data (xtest):\", xtest.shape)\n",
    "print(\"Shape of Training Labels (ytrain):\", ytrain.shape)\n",
    "print(\"Shape of Testing Labels (ytest):\", ytest.shape)\n"
   ]
  },
  {
   "cell_type": "code",
   "execution_count": 68,
   "id": "3b348469-6a3d-4838-ba7c-bbbbfb4ece45",
   "metadata": {},
   "outputs": [
    {
     "name": "stdout",
     "output_type": "stream",
     "text": [
      "Epoch 1/5\n",
      "\u001b[1m400/400\u001b[0m \u001b[32m━━━━━━━━━━━━━━━━━━━━\u001b[0m\u001b[37m\u001b[0m \u001b[1m18s\u001b[0m 37ms/step - accuracy: 0.3933 - loss: 1.5218 - val_accuracy: 0.6969 - val_loss: 0.8762\n",
      "Epoch 2/5\n",
      "\u001b[1m400/400\u001b[0m \u001b[32m━━━━━━━━━━━━━━━━━━━━\u001b[0m\u001b[37m\u001b[0m \u001b[1m14s\u001b[0m 36ms/step - accuracy: 0.8729 - loss: 0.4148 - val_accuracy: 0.8194 - val_loss: 0.5485\n",
      "Epoch 3/5\n",
      "\u001b[1m400/400\u001b[0m \u001b[32m━━━━━━━━━━━━━━━━━━━━\u001b[0m\u001b[37m\u001b[0m \u001b[1m14s\u001b[0m 34ms/step - accuracy: 0.9856 - loss: 0.0593 - val_accuracy: 0.8222 - val_loss: 0.5753\n",
      "Epoch 4/5\n",
      "\u001b[1m400/400\u001b[0m \u001b[32m━━━━━━━━━━━━━━━━━━━━\u001b[0m\u001b[37m\u001b[0m \u001b[1m14s\u001b[0m 34ms/step - accuracy: 0.9962 - loss: 0.0209 - val_accuracy: 0.8181 - val_loss: 0.6081\n",
      "Epoch 5/5\n",
      "\u001b[1m400/400\u001b[0m \u001b[32m━━━━━━━━━━━━━━━━━━━━\u001b[0m\u001b[37m\u001b[0m \u001b[1m13s\u001b[0m 33ms/step - accuracy: 0.9970 - loss: 0.0154 - val_accuracy: 0.8150 - val_loss: 0.6678\n"
     ]
    }
   ],
   "source": [
    "# Import necessary libraries\n",
    "from tensorflow.keras.models import Sequential\n",
    "from tensorflow.keras.layers import Embedding, Flatten, Dense\n",
    "\n",
    "# Build the model\n",
    "model = Sequential([\n",
    "    Embedding(input_dim=len(tokenizer.word_index) + 1, output_dim=128),  # Removed `input_length`\n",
    "    Flatten(),\n",
    "    Dense(units=128, activation='relu'),\n",
    "    Dense(units=len(label_encoder.classes_), activation='softmax')\n",
    "])\n",
    "\n",
    "# Compile the model\n",
    "model.compile(optimizer='adam', loss='categorical_crossentropy', metrics=['accuracy'])\n",
    "\n",
    "# Train the model\n",
    "history = model.fit(xtrain, ytrain, epochs=5, batch_size=32, validation_data=(xtest, ytest))\n"
   ]
  },
  {
   "cell_type": "code",
   "execution_count": 93,
   "id": "7646d417-f2fd-48f9-a878-e3dea8b7064d",
   "metadata": {},
   "outputs": [
    {
     "name": "stdin",
     "output_type": "stream",
     "text": [
      "Enter a sentence to detect emotion:  I miss the good old days when everything felt easier.\n"
     ]
    },
    {
     "name": "stdout",
     "output_type": "stream",
     "text": [
      "\u001b[1m1/1\u001b[0m \u001b[32m━━━━━━━━━━━━━━━━━━━━\u001b[0m\u001b[37m\u001b[0m \u001b[1m1s\u001b[0m 622ms/step\n"
     ]
    },
    {
     "data": {
      "text/html": [
       "\n",
       "    <div style=\"\n",
       "        font-family: Arial, sans-serif;\n",
       "        padding: 20px;\n",
       "        border-radius: 10px;\n",
       "        max-width: 400px;\n",
       "        margin: auto;\n",
       "        background: url('https://wallpapercave.com/wp/wp2832043.jpg');\n",
       "        background-size: cover;\n",
       "        box-shadow: 0 4px 8px rgba(0, 0, 0, 0.2);\n",
       "        border: 5px solid white;\n",
       "    \">\n",
       "        <h2 style=\"font-size: 24px; color: white; text-shadow: 2px 2px 4px black; text-align: center;\">Emotion Detection</h2>\n",
       "        <p style=\"font-size: 18px; text-align: center; color: white; text-shadow: 1px 1px 2px black;\"><strong>Input Text:</strong> I miss the good old days when everything felt easier.</p>\n",
       "        <p style=\"font-size: 80px; text-align: center; animation: moveEmoji 2s infinite;\">😢</p>\n",
       "        <p style=\"font-size: 20px; text-align: center; color: white; text-shadow: 1px 1px 2px black;\"><strong>Predicted Emotion:</strong> sadness</p>\n",
       "    </div>\n",
       "    <style>\n",
       "        @keyframes moveEmoji {\n",
       "            0% { transform: translateY(0); }\n",
       "            50% { transform: translateY(-10px); }\n",
       "            100% { transform: translateY(0); }\n",
       "        }\n",
       "    </style>\n",
       "    "
      ],
      "text/plain": [
       "<IPython.core.display.HTML object>"
      ]
     },
     "metadata": {},
     "output_type": "display_data"
    }
   ],
   "source": [
    "# Importing required libraries\n",
    "from tensorflow.keras.preprocessing.sequence import pad_sequences\n",
    "from tensorflow.keras.preprocessing.text import Tokenizer\n",
    "import numpy as np\n",
    "from tensorflow.keras.models import Sequential\n",
    "from tensorflow.keras.layers import Dense, Embedding, Flatten\n",
    "from sklearn.preprocessing import LabelEncoder\n",
    "import keras\n",
    "from IPython.display import display, HTML, Javascript\n",
    "import random\n",
    "import time\n",
    "\n",
    "# Define the dictionary for 50 emotions to emojis\n",
    "emotion_to_emoji = {\n",
    "    \"sadness\": \"😢\", \"anger\": \"😡\", \"love\": \"❤️\", \"surprise\": \"😮\", \"fear\": \"😱\",\n",
    "    \"happiness\": \"😊\", \"joy\": \"😂\", \"disgust\": \"🤢\", \"boredom\": \"😒\", \"pride\": \"😎\",\n",
    "    \"gratitude\": \"🙏\", \"embarrassment\": \"😳\", \"confusion\": \"😕\", \"hope\": \"🤞\", \"relief\": \"😌\",\n",
    "    \"shame\": \"😳\", \"anxiety\": \"😰\", \"excitement\": \"🤩\", \"frustration\": \"😤\", \"love-sick\": \"💔\",\n",
    "    \"curiosity\": \"🤔\", \"peace\": \"☮️\", \"nostalgia\": \"😌\", \"contempt\": \"😒\", \"guilt\": \"😔\",\n",
    "    \"priceless\": \"🤩\", \"determination\": \"💪\", \"serenity\": \"🌿\", \"inspiration\": \"💡\", \"enthusiasm\": \"🎉\",\n",
    "    \"confident\": \"💃\", \"affection\": \"🥰\", \"sympathy\": \"🤗\", \"mischief\": \"😈\", \"longing\": \"💭\",\n",
    "    \"hopeful\": \"🌈\", \"embarrassed\": \"🙈\", \"shocked\": \"😲\", \"flirt\": \"😘\", \"dreamy\": \"🌙\",\n",
    "    \"exhilarated\": \"😝\", \"optimistic\": \"☀️\", \"pessimistic\": \"🌧️\", \"awestruck\": \"🤯\", \"contentment\": \"😌\",\n",
    "    \"affectionate\": \"❤️\", \"humor\": \"🤣\", \"grateful\": \"🙌\", \"relaxed\": \"😌\", \"sleepy\": \"😴\",\n",
    "    \"peaceful\": \"🕊️\", \"energetic\": \"⚡\"\n",
    "}\n",
    "\n",
    "# Define a function to predict the emotion with emoji\n",
    "def predict_emotion_with_emoji(text):\n",
    "    # Preprocess the input text\n",
    "    sequence = tokenizer.texts_to_sequences([text])\n",
    "    padded_sequence = pad_sequences(sequence, maxlen=max_length)\n",
    "\n",
    "    # Predict the emotion\n",
    "    prediction = model.predict(padded_sequence)\n",
    "    predicted_emotion = label_encoder.inverse_transform([prediction.argmax()])[0]\n",
    "    \n",
    "    # Get the emoji for the predicted emotion or use a default one\n",
    "    emoji = emotion_to_emoji.get(predicted_emotion, \"❓\")\n",
    "    \n",
    "    return predicted_emotion, emoji\n",
    "\n",
    "# Function to display the output beautifully with a moving emoji and emotion\n",
    "def display_result(input_text):\n",
    "    predicted_emotion, emoji = predict_emotion_with_emoji(input_text)\n",
    "\n",
    "    # HTML format for animated emoji display\n",
    "    html_output = f\"\"\"\n",
    "    <div style=\"\n",
    "        font-family: Arial, sans-serif;\n",
    "        padding: 20px;\n",
    "        border-radius: 10px;\n",
    "        max-width: 400px;\n",
    "        margin: auto;\n",
    "        background: url('https://wallpapercave.com/wp/wp2832043.jpg');\n",
    "        background-size: cover;\n",
    "        box-shadow: 0 4px 8px rgba(0, 0, 0, 0.2);\n",
    "        border: 5px solid white;\n",
    "    \">\n",
    "        <h2 style=\"font-size: 24px; color: white; text-shadow: 2px 2px 4px black; text-align: center;\">Emotion Detection</h2>\n",
    "        <p style=\"font-size: 18px; text-align: center; color: white; text-shadow: 1px 1px 2px black;\"><strong>Input Text:</strong> {input_text}</p>\n",
    "        <p style=\"font-size: 80px; text-align: center; animation: moveEmoji 2s infinite;\">{emoji}</p>\n",
    "        <p style=\"font-size: 20px; text-align: center; color: white; text-shadow: 1px 1px 2px black;\"><strong>Predicted Emotion:</strong> {predicted_emotion}</p>\n",
    "    </div>\n",
    "    <style>\n",
    "        @keyframes moveEmoji {{\n",
    "            0% {{ transform: translateY(0); }}\n",
    "            50% {{ transform: translateY(-10px); }}\n",
    "            100% {{ transform: translateY(0); }}\n",
    "        }}\n",
    "    </style>\n",
    "    \"\"\"\n",
    "    display(HTML(html_output))\n",
    "\n",
    "# Input text\n",
    "input_text = input(\"Enter a sentence to detect emotion: \")  # You can enter the sentence here\n",
    "display_result(input_text)\n"
   ]
  }
 ],
 "metadata": {
  "kernelspec": {
   "display_name": "Python 3.11.5",
   "language": "python",
   "name": "python3115"
  },
  "language_info": {
   "codemirror_mode": {
    "name": "ipython",
    "version": 3
   },
   "file_extension": ".py",
   "mimetype": "text/x-python",
   "name": "python",
   "nbconvert_exporter": "python",
   "pygments_lexer": "ipython3",
   "version": "3.12.4"
  }
 },
 "nbformat": 4,
 "nbformat_minor": 5
}
